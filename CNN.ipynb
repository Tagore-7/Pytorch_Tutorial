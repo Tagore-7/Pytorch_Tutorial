{
  "nbformat": 4,
  "nbformat_minor": 0,
  "metadata": {
    "colab": {
      "provenance": [],
      "gpuType": "T4",
      "authorship_tag": "ABX9TyMh0GyDq2pFkVfh51zco1kb",
      "include_colab_link": true
    },
    "kernelspec": {
      "name": "python3",
      "display_name": "Python 3"
    },
    "language_info": {
      "name": "python"
    },
    "accelerator": "GPU"
  },
  "cells": [
    {
      "cell_type": "markdown",
      "metadata": {
        "id": "view-in-github",
        "colab_type": "text"
      },
      "source": [
        "<a href=\"https://colab.research.google.com/github/Tagore-7/Pytorch_Tutorial/blob/main/CNN.ipynb\" target=\"_parent\"><img src=\"https://colab.research.google.com/assets/colab-badge.svg\" alt=\"Open In Colab\"/></a>"
      ]
    },
    {
      "cell_type": "code",
      "source": [
        "import torch\n",
        "import torch.nn as nn\n",
        "import torch.nn.functional as F\n",
        "from torch.utils.data import DataLoader\n",
        "from torchvision import datasets, transforms\n",
        "from torchvision.utils import make_grid\n",
        "import numpy as np\n",
        "import pandas as pd\n",
        "from sklearn.metrics import confusion_matrix\n",
        "import matplotlib.pyplot as plt\n",
        "%matplotlib inline"
      ],
      "metadata": {
        "id": "zkG885QPw06i"
      },
      "execution_count": 1,
      "outputs": []
    },
    {
      "cell_type": "code",
      "source": [
        "# convert mnist images files into tensor of 4 dimensions\n",
        "# no of images, height, width, color channel\n",
        "\n",
        "transform = transforms.ToTensor()"
      ],
      "metadata": {
        "id": "KMc8zTc5yFMw"
      },
      "execution_count": 2,
      "outputs": []
    },
    {
      "cell_type": "code",
      "source": [
        "# train data\n",
        "\n",
        "train_data = datasets.MNIST(root = \"/cnn_data\", train =True, download = True, transform= transform)\n"
      ],
      "metadata": {
        "colab": {
          "base_uri": "https://localhost:8080/"
        },
        "id": "lLBDA04-yj5z",
        "outputId": "15e42101-1c00-4f88-d3dd-3ab27ddbf26f"
      },
      "execution_count": 3,
      "outputs": [
        {
          "output_type": "stream",
          "name": "stdout",
          "text": [
            "Downloading http://yann.lecun.com/exdb/mnist/train-images-idx3-ubyte.gz\n",
            "Downloading http://yann.lecun.com/exdb/mnist/train-images-idx3-ubyte.gz to /cnn_data/MNIST/raw/train-images-idx3-ubyte.gz\n"
          ]
        },
        {
          "output_type": "stream",
          "name": "stderr",
          "text": [
            "100%|██████████| 9912422/9912422 [00:00<00:00, 88246604.97it/s]\n"
          ]
        },
        {
          "output_type": "stream",
          "name": "stdout",
          "text": [
            "Extracting /cnn_data/MNIST/raw/train-images-idx3-ubyte.gz to /cnn_data/MNIST/raw\n",
            "\n",
            "Downloading http://yann.lecun.com/exdb/mnist/train-labels-idx1-ubyte.gz\n",
            "Downloading http://yann.lecun.com/exdb/mnist/train-labels-idx1-ubyte.gz to /cnn_data/MNIST/raw/train-labels-idx1-ubyte.gz\n"
          ]
        },
        {
          "output_type": "stream",
          "name": "stderr",
          "text": [
            "100%|██████████| 28881/28881 [00:00<00:00, 97926995.82it/s]"
          ]
        },
        {
          "output_type": "stream",
          "name": "stdout",
          "text": [
            "Extracting /cnn_data/MNIST/raw/train-labels-idx1-ubyte.gz to /cnn_data/MNIST/raw\n",
            "\n",
            "Downloading http://yann.lecun.com/exdb/mnist/t10k-images-idx3-ubyte.gz\n",
            "Downloading http://yann.lecun.com/exdb/mnist/t10k-images-idx3-ubyte.gz to /cnn_data/MNIST/raw/t10k-images-idx3-ubyte.gz\n"
          ]
        },
        {
          "output_type": "stream",
          "name": "stderr",
          "text": [
            "\n",
            "100%|██████████| 1648877/1648877 [00:00<00:00, 28576056.21it/s]\n"
          ]
        },
        {
          "output_type": "stream",
          "name": "stdout",
          "text": [
            "Extracting /cnn_data/MNIST/raw/t10k-images-idx3-ubyte.gz to /cnn_data/MNIST/raw\n",
            "\n",
            "Downloading http://yann.lecun.com/exdb/mnist/t10k-labels-idx1-ubyte.gz\n",
            "Downloading http://yann.lecun.com/exdb/mnist/t10k-labels-idx1-ubyte.gz to /cnn_data/MNIST/raw/t10k-labels-idx1-ubyte.gz\n"
          ]
        },
        {
          "output_type": "stream",
          "name": "stderr",
          "text": [
            "100%|██████████| 4542/4542 [00:00<00:00, 21285507.00it/s]"
          ]
        },
        {
          "output_type": "stream",
          "name": "stdout",
          "text": [
            "Extracting /cnn_data/MNIST/raw/t10k-labels-idx1-ubyte.gz to /cnn_data/MNIST/raw\n",
            "\n"
          ]
        },
        {
          "output_type": "stream",
          "name": "stderr",
          "text": [
            "\n"
          ]
        }
      ]
    },
    {
      "cell_type": "code",
      "source": [
        "test_data = datasets.MNIST(root = \"/cnn_data\", train =False, download = True, transform= transform)\n"
      ],
      "metadata": {
        "id": "Bx5LEgfgy_jL"
      },
      "execution_count": 4,
      "outputs": []
    },
    {
      "cell_type": "code",
      "source": [
        "train_data"
      ],
      "metadata": {
        "colab": {
          "base_uri": "https://localhost:8080/"
        },
        "id": "1WHSWdAKzJK0",
        "outputId": "ae4c1a71-0691-4220-addf-628f905e2445"
      },
      "execution_count": 5,
      "outputs": [
        {
          "output_type": "execute_result",
          "data": {
            "text/plain": [
              "Dataset MNIST\n",
              "    Number of datapoints: 60000\n",
              "    Root location: /cnn_data\n",
              "    Split: Train\n",
              "    StandardTransform\n",
              "Transform: ToTensor()"
            ]
          },
          "metadata": {},
          "execution_count": 5
        }
      ]
    },
    {
      "cell_type": "code",
      "source": [
        "test_data"
      ],
      "metadata": {
        "colab": {
          "base_uri": "https://localhost:8080/"
        },
        "id": "ffGXY_V0zMA8",
        "outputId": "58141881-af43-4afc-fba6-41f23475b592"
      },
      "execution_count": 6,
      "outputs": [
        {
          "output_type": "execute_result",
          "data": {
            "text/plain": [
              "Dataset MNIST\n",
              "    Number of datapoints: 10000\n",
              "    Root location: /cnn_data\n",
              "    Split: Test\n",
              "    StandardTransform\n",
              "Transform: ToTensor()"
            ]
          },
          "metadata": {},
          "execution_count": 6
        }
      ]
    },
    {
      "cell_type": "code",
      "source": [
        "# create a samll batch size\n",
        "train_loader = DataLoader(train_data, batch_size= 10, shuffle = True)\n",
        "test_loader = DataLoader(test_data, batch_size= 10, shuffle = False)"
      ],
      "metadata": {
        "id": "9Nb3WyAyzmi8"
      },
      "execution_count": 7,
      "outputs": []
    },
    {
      "cell_type": "code",
      "source": [
        "# define cnn model\n",
        "# describe conolutional layer and what it is doing\n",
        "conv1 = nn.Conv2d(1, 6, 3, 1)\n",
        "conv2 = nn.Conv2d(6, 16, 3, 1)"
      ],
      "metadata": {
        "id": "GvJP-8E00Xlq"
      },
      "execution_count": 8,
      "outputs": []
    },
    {
      "cell_type": "code",
      "source": [
        "# grad 1 mnist record image\n",
        "for i , (X_Train, y_train) in enumerate(train_data):\n",
        "  break"
      ],
      "metadata": {
        "id": "HdM2V0L31AW1"
      },
      "execution_count": 9,
      "outputs": []
    },
    {
      "cell_type": "code",
      "source": [
        "X_Train.shape"
      ],
      "metadata": {
        "colab": {
          "base_uri": "https://localhost:8080/"
        },
        "id": "c2whQ4oJ1Qxn",
        "outputId": "2e90fd81-758c-457b-ce85-54b44aee1381"
      },
      "execution_count": 10,
      "outputs": [
        {
          "output_type": "execute_result",
          "data": {
            "text/plain": [
              "torch.Size([1, 28, 28])"
            ]
          },
          "metadata": {},
          "execution_count": 10
        }
      ]
    },
    {
      "cell_type": "code",
      "source": [
        "x = X_Train.view(1,1,28,28)"
      ],
      "metadata": {
        "id": "TH9Hj2i31Smu"
      },
      "execution_count": 11,
      "outputs": []
    },
    {
      "cell_type": "code",
      "source": [
        "x = F.relu(conv1(x))"
      ],
      "metadata": {
        "id": "ZjBsSXyr1a8L"
      },
      "execution_count": 12,
      "outputs": []
    },
    {
      "cell_type": "code",
      "source": [
        "x.shape    # 1 is one image, 6 filters, 26 * 26 image"
      ],
      "metadata": {
        "colab": {
          "base_uri": "https://localhost:8080/"
        },
        "id": "AyRLR9fx1mck",
        "outputId": "68398932-cff5-4e21-c310-a40990ec3729"
      },
      "execution_count": 13,
      "outputs": [
        {
          "output_type": "execute_result",
          "data": {
            "text/plain": [
              "torch.Size([1, 6, 26, 26])"
            ]
          },
          "metadata": {},
          "execution_count": 13
        }
      ]
    },
    {
      "cell_type": "code",
      "source": [
        "x = F.max_pool2d(x, 2, 2) # kernel 2 ans stride 2"
      ],
      "metadata": {
        "id": "QIDcB2Hl1ojW"
      },
      "execution_count": 14,
      "outputs": []
    },
    {
      "cell_type": "code",
      "source": [
        "x.shape # 26 / 2 = 13"
      ],
      "metadata": {
        "colab": {
          "base_uri": "https://localhost:8080/"
        },
        "id": "CsQp5jdk2b-k",
        "outputId": "f3c48ff1-fc60-4ead-ac0a-a7e6707f2d75"
      },
      "execution_count": 15,
      "outputs": [
        {
          "output_type": "execute_result",
          "data": {
            "text/plain": [
              "torch.Size([1, 6, 13, 13])"
            ]
          },
          "metadata": {},
          "execution_count": 15
        }
      ]
    },
    {
      "cell_type": "code",
      "source": [
        "# second conv2\n",
        "x = F.relu(conv2(x))"
      ],
      "metadata": {
        "id": "7OHh1AaU2eBi"
      },
      "execution_count": 16,
      "outputs": []
    },
    {
      "cell_type": "code",
      "source": [
        "x.shape ## didn't set padding loosing 2 pixles outside"
      ],
      "metadata": {
        "colab": {
          "base_uri": "https://localhost:8080/"
        },
        "id": "SWV75QJu26af",
        "outputId": "7a8b113b-d892-457a-de5c-f138ae5d61a1"
      },
      "execution_count": 17,
      "outputs": [
        {
          "output_type": "execute_result",
          "data": {
            "text/plain": [
              "torch.Size([1, 16, 11, 11])"
            ]
          },
          "metadata": {},
          "execution_count": 17
        }
      ]
    },
    {
      "cell_type": "code",
      "source": [
        "x = F.max_pool2d(x, 2, 2)"
      ],
      "metadata": {
        "id": "KYB8JYju2745"
      },
      "execution_count": 18,
      "outputs": []
    },
    {
      "cell_type": "code",
      "source": [
        "x.shape"
      ],
      "metadata": {
        "colab": {
          "base_uri": "https://localhost:8080/"
        },
        "id": "xyHkzIRq3NMA",
        "outputId": "c66167c4-60cf-4ad1-f648-d72a34860933"
      },
      "execution_count": 19,
      "outputs": [
        {
          "output_type": "execute_result",
          "data": {
            "text/plain": [
              "torch.Size([1, 16, 5, 5])"
            ]
          },
          "metadata": {},
          "execution_count": 19
        }
      ]
    },
    {
      "cell_type": "code",
      "source": [
        "## model class\n",
        "class ConvolutionalNetwork(nn.Module):\n",
        "  def __init__(self):\n",
        "    super().__init__()\n",
        "    self.conv1 = nn.Conv2d(1, 6, 3, 1)\n",
        "    self.conv2 = nn.Conv2d(6, 16, 3, 1)\n",
        "\n",
        "    ## Fully connected layer\n",
        "    self.fc1 = nn.Linear(5*5*16, 120)\n",
        "    self.fc2 = nn.Linear(120, 84)\n",
        "    self.fc3 = nn.Linear(84, 10)\n",
        "\n",
        "  ## Forward pass\n",
        "  def forward(self, X):\n",
        "    X = F.relu(self.conv1(X))\n",
        "    X = F.max_pool2d(X, 2,2)\n",
        "    X = F.relu(self.conv2(X))\n",
        "    X = F.max_pool2d(X, 2,2)\n",
        "\n",
        "    X = X.view(-1,16*5*5)\n",
        "\n",
        "    X = F.relu(self.fc1(X))\n",
        "    X = F.relu(self.fc2(X))\n",
        "    X = self.fc3(X)\n",
        "\n",
        "    return F.log_softmax(X, dim = 1)\n",
        "\n",
        "\n"
      ],
      "metadata": {
        "id": "-yP8NkgL3OGm"
      },
      "execution_count": 20,
      "outputs": []
    },
    {
      "cell_type": "code",
      "source": [
        "torch.manual_seed(42)\n",
        "\n",
        "model = ConvolutionalNetwork()\n",
        "model"
      ],
      "metadata": {
        "colab": {
          "base_uri": "https://localhost:8080/"
        },
        "id": "EYmuJMao9qAs",
        "outputId": "58312d62-b7f2-4c91-8abc-6ceec9f63b59"
      },
      "execution_count": 21,
      "outputs": [
        {
          "output_type": "execute_result",
          "data": {
            "text/plain": [
              "ConvolutionalNetwork(\n",
              "  (conv1): Conv2d(1, 6, kernel_size=(3, 3), stride=(1, 1))\n",
              "  (conv2): Conv2d(6, 16, kernel_size=(3, 3), stride=(1, 1))\n",
              "  (fc1): Linear(in_features=400, out_features=120, bias=True)\n",
              "  (fc2): Linear(in_features=120, out_features=84, bias=True)\n",
              "  (fc3): Linear(in_features=84, out_features=10, bias=True)\n",
              ")"
            ]
          },
          "metadata": {},
          "execution_count": 21
        }
      ]
    },
    {
      "cell_type": "code",
      "source": [
        "## loss function opitimzer\n",
        "criterion = nn.CrossEntropyLoss()\n",
        "opitmizer = torch.optim.Adam(model.parameters(), lr = 0.01)"
      ],
      "metadata": {
        "id": "ojxYaeLx95rc"
      },
      "execution_count": 22,
      "outputs": []
    },
    {
      "cell_type": "code",
      "source": [
        "from ast import withitem\n",
        "import time\n",
        "start_time = time.time()\n",
        "# create variables to track things\n",
        "epochs = 10\n",
        "train_loss = []\n",
        "test_loss = []\n",
        "train_correct = []\n",
        "test_correct = []\n",
        "# for loop of epochs\n",
        "for epoch in range(epochs):\n",
        "  train_corr = 0\n",
        "  test_corr = 0\n",
        "\n",
        "    # Train\n",
        "  for batch, (X_Train, y_train) in enumerate(train_loader):\n",
        "    batch += 1\n",
        "    y_pred = model(X_Train)\n",
        "    loss = criterion(y_pred, y_train)\n",
        "\n",
        "    predicted = torch.max(y_pred.data, 1)[1]\n",
        "    batch_corr = (predicted == y_train).sum()\n",
        "    train_corr += batch_corr\n",
        "\n",
        "\n",
        "\n",
        "\n",
        "\n",
        "     # update the params\n",
        "    opitmizer.zero_grad()\n",
        "    loss.backward()\n",
        "    opitmizer.step()\n",
        "\n",
        "     # print the results\n",
        "    if batch % 600 ==0:\n",
        "      print(f\"Epoch:{epoch} Batch:{batch} Loss:{loss.item()}\")\n",
        "\n",
        "  train_loss.append(loss)\n",
        "  train_correct.append(train_corr)\n",
        "\n",
        "\n",
        "  # test\n",
        "  with torch.no_grad():\n",
        "    for batch, (X_Test, y_test) in enumerate(test_loader):\n",
        "      y_val = model(X_Test)\n",
        "      predicted = torch.max(y_val.data, 1)[1]\n",
        "      test_corr += (predicted == y_test).sum()\n",
        "\n",
        "  loss = criterion(y_val, y_test)\n",
        "  test_loss.append(loss)\n",
        "  test_correct.append(test_corr)\n",
        "\n",
        "current_time = time.time()\n",
        "total = current_time - start_time\n",
        "print(f\"Training Took: {total / 60} minutes\")"
      ],
      "metadata": {
        "id": "YvQvnbyT-ZoY",
        "colab": {
          "base_uri": "https://localhost:8080/"
        },
        "outputId": "832f8c55-2043-4bd2-b103-c653b15af778"
      },
      "execution_count": 23,
      "outputs": [
        {
          "output_type": "stream",
          "name": "stdout",
          "text": [
            "Epoch:0 Batch:600 Loss:0.007330802269279957\n",
            "Epoch:0 Batch:1200 Loss:0.036377549171447754\n",
            "Epoch:0 Batch:1800 Loss:0.9541753530502319\n",
            "Epoch:0 Batch:2400 Loss:0.06135378032922745\n",
            "Epoch:0 Batch:3000 Loss:0.014649903401732445\n",
            "Epoch:0 Batch:3600 Loss:0.00014132658543530852\n",
            "Epoch:0 Batch:4200 Loss:0.5087004899978638\n",
            "Epoch:0 Batch:4800 Loss:0.045817781239748\n",
            "Epoch:0 Batch:5400 Loss:0.004989025183022022\n",
            "Epoch:0 Batch:6000 Loss:0.3284910023212433\n",
            "Epoch:1 Batch:600 Loss:0.0010484460508450866\n",
            "Epoch:1 Batch:1200 Loss:0.5946699976921082\n",
            "Epoch:1 Batch:1800 Loss:0.00826119165867567\n",
            "Epoch:1 Batch:2400 Loss:0.0017208419740200043\n",
            "Epoch:1 Batch:3000 Loss:0.28423893451690674\n",
            "Epoch:1 Batch:3600 Loss:0.001267873216420412\n",
            "Epoch:1 Batch:4200 Loss:0.015317593701183796\n",
            "Epoch:1 Batch:4800 Loss:0.005009133368730545\n",
            "Epoch:1 Batch:5400 Loss:0.054441891610622406\n",
            "Epoch:1 Batch:6000 Loss:0.35370832681655884\n",
            "Epoch:2 Batch:600 Loss:0.008823515847325325\n",
            "Epoch:2 Batch:1200 Loss:0.0030889040790498257\n",
            "Epoch:2 Batch:1800 Loss:0.0013113899622112513\n",
            "Epoch:2 Batch:2400 Loss:0.001203677849844098\n",
            "Epoch:2 Batch:3000 Loss:0.48218807578086853\n",
            "Epoch:2 Batch:3600 Loss:0.21873748302459717\n",
            "Epoch:2 Batch:4200 Loss:0.3781527876853943\n",
            "Epoch:2 Batch:4800 Loss:0.002755749272182584\n",
            "Epoch:2 Batch:5400 Loss:0.003448963165283203\n",
            "Epoch:2 Batch:6000 Loss:0.005624948535114527\n",
            "Epoch:3 Batch:600 Loss:0.06322330236434937\n",
            "Epoch:3 Batch:1200 Loss:0.006788560654968023\n",
            "Epoch:3 Batch:1800 Loss:0.01558501087129116\n",
            "Epoch:3 Batch:2400 Loss:0.02979584038257599\n",
            "Epoch:3 Batch:3000 Loss:0.0005263401544652879\n",
            "Epoch:3 Batch:3600 Loss:0.7402105927467346\n",
            "Epoch:3 Batch:4200 Loss:0.0037583529483526945\n",
            "Epoch:3 Batch:4800 Loss:0.17063705623149872\n",
            "Epoch:3 Batch:5400 Loss:0.14732018113136292\n",
            "Epoch:3 Batch:6000 Loss:0.0026633150409907103\n",
            "Epoch:4 Batch:600 Loss:0.001770947827026248\n",
            "Epoch:4 Batch:1200 Loss:1.5676751136779785\n",
            "Epoch:4 Batch:1800 Loss:0.005003955215215683\n",
            "Epoch:4 Batch:2400 Loss:0.0008594339597038925\n",
            "Epoch:4 Batch:3000 Loss:0.31565961241722107\n",
            "Epoch:4 Batch:3600 Loss:0.03411268815398216\n",
            "Epoch:4 Batch:4200 Loss:0.01903652958571911\n",
            "Epoch:4 Batch:4800 Loss:0.020878149196505547\n",
            "Epoch:4 Batch:5400 Loss:0.013803643174469471\n",
            "Epoch:4 Batch:6000 Loss:0.05014003440737724\n",
            "Epoch:5 Batch:600 Loss:0.0007549120346084237\n",
            "Epoch:5 Batch:1200 Loss:0.13566312193870544\n",
            "Epoch:5 Batch:1800 Loss:0.6243355870246887\n",
            "Epoch:5 Batch:2400 Loss:0.05375631898641586\n",
            "Epoch:5 Batch:3000 Loss:0.022040579468011856\n",
            "Epoch:5 Batch:3600 Loss:0.00018910577637143433\n",
            "Epoch:5 Batch:4200 Loss:0.019648563116788864\n",
            "Epoch:5 Batch:4800 Loss:1.4840654330328107e-05\n",
            "Epoch:5 Batch:5400 Loss:0.002344918204471469\n",
            "Epoch:5 Batch:6000 Loss:0.06699894368648529\n",
            "Epoch:6 Batch:600 Loss:0.015064476057887077\n",
            "Epoch:6 Batch:1200 Loss:0.10612217336893082\n",
            "Epoch:6 Batch:1800 Loss:1.134461760520935\n",
            "Epoch:6 Batch:2400 Loss:0.47742128372192383\n",
            "Epoch:6 Batch:3000 Loss:0.051861535757780075\n",
            "Epoch:6 Batch:3600 Loss:5.287474414217286e-05\n",
            "Epoch:6 Batch:4200 Loss:0.006285514682531357\n",
            "Epoch:6 Batch:4800 Loss:0.015090051107108593\n",
            "Epoch:6 Batch:5400 Loss:0.02918190136551857\n",
            "Epoch:6 Batch:6000 Loss:0.0021814375650137663\n",
            "Epoch:7 Batch:600 Loss:0.23243610560894012\n",
            "Epoch:7 Batch:1200 Loss:0.006183241959661245\n",
            "Epoch:7 Batch:1800 Loss:0.0012617430184036493\n",
            "Epoch:7 Batch:2400 Loss:0.4798762798309326\n",
            "Epoch:7 Batch:3000 Loss:0.07728884369134903\n",
            "Epoch:7 Batch:3600 Loss:0.010653932578861713\n",
            "Epoch:7 Batch:4200 Loss:0.07599769532680511\n",
            "Epoch:7 Batch:4800 Loss:0.03409765288233757\n",
            "Epoch:7 Batch:5400 Loss:0.0070065842010080814\n",
            "Epoch:7 Batch:6000 Loss:0.01806967705488205\n",
            "Epoch:8 Batch:600 Loss:0.23760852217674255\n",
            "Epoch:8 Batch:1200 Loss:0.18248723447322845\n",
            "Epoch:8 Batch:1800 Loss:1.1314847469329834\n",
            "Epoch:8 Batch:2400 Loss:1.012160062789917\n",
            "Epoch:8 Batch:3000 Loss:0.0506037175655365\n",
            "Epoch:8 Batch:3600 Loss:0.096043661236763\n",
            "Epoch:8 Batch:4200 Loss:0.3803423047065735\n",
            "Epoch:8 Batch:4800 Loss:0.17696765065193176\n",
            "Epoch:8 Batch:5400 Loss:3.771203773794696e-05\n",
            "Epoch:8 Batch:6000 Loss:0.00025712838396430016\n",
            "Epoch:9 Batch:600 Loss:1.425506591796875\n",
            "Epoch:9 Batch:1200 Loss:1.0764178037643433\n",
            "Epoch:9 Batch:1800 Loss:0.3696834444999695\n",
            "Epoch:9 Batch:2400 Loss:0.2034802883863449\n",
            "Epoch:9 Batch:3000 Loss:0.29061466455459595\n",
            "Epoch:9 Batch:3600 Loss:0.8171598315238953\n",
            "Epoch:9 Batch:4200 Loss:0.4547084867954254\n",
            "Epoch:9 Batch:4800 Loss:0.0024543646723031998\n",
            "Epoch:9 Batch:5400 Loss:0.35404500365257263\n",
            "Epoch:9 Batch:6000 Loss:0.00822074618190527\n",
            "Training Took: 7.5523248990376795 minutes\n"
          ]
        }
      ]
    },
    {
      "cell_type": "code",
      "source": [
        "# graph the loss at each epoch\n",
        "train_loss = [tl.item() for tl in train_loss]\n",
        "plt.plot(train_loss, label = \"training loss\")\n",
        "plt.plot(test_loss, label = \"testing loss\")\n",
        "plt.title(\"Loss at epoch\")\n",
        "plt.legend()"
      ],
      "metadata": {
        "colab": {
          "base_uri": "https://localhost:8080/",
          "height": 469
        },
        "id": "jUBo0hpUCv5T",
        "outputId": "10c61ab5-5f3e-4395-ee1a-922e2cf3c14b"
      },
      "execution_count": 24,
      "outputs": [
        {
          "output_type": "execute_result",
          "data": {
            "text/plain": [
              "<matplotlib.legend.Legend at 0x7c689d2fa1a0>"
            ]
          },
          "metadata": {},
          "execution_count": 24
        },
        {
          "output_type": "display_data",
          "data": {
            "text/plain": [
              "<Figure size 640x480 with 1 Axes>"
            ],
            "image/png": "[encoded data removed]"
          },
          "metadata": {}
        }
      ]
    },
    {
      "cell_type": "code",
      "source": [
        "# plot the accuracy\n",
        "\n",
        "plt.plot([t/600 for t in train_correct], label = \"training accuracy\")\n",
        "plt.plot([t/100 for t in test_correct], label = \"validation accuracy\")\n",
        "plt.title(\"Accuracy at the end of each epoch\")\n",
        "plt.legend()"
      ],
      "metadata": {
        "colab": {
          "base_uri": "https://localhost:8080/",
          "height": 469
        },
        "id": "bBOYumphavVh",
        "outputId": "3b75d4a3-22f1-457b-d6d7-a644cea8774f"
      },
      "execution_count": 25,
      "outputs": [
        {
          "output_type": "execute_result",
          "data": {
            "text/plain": [
              "<matplotlib.legend.Legend at 0x7c689d2f82b0>"
            ]
          },
          "metadata": {},
          "execution_count": 25
        },
        {
          "output_type": "display_data",
          "data": {
            "text/plain": [
              "<Figure size 640x480 with 1 Axes>"
            ],
            "image/png": "[encoded data removed]"
          },
          "metadata": {}
        }
      ]
    },
    {
      "cell_type": "code",
      "source": [
        "test_everything = DataLoader(test_data, batch_size = 10000, shuffle = False)\n",
        "with torch.no_grad():\n",
        "  correct = 0\n",
        "  for X_Test, y_test in test_everything:\n",
        "    y_val = model(X_Test)\n",
        "    predicted = torch.max(y_val, 1)[1]\n",
        "    correct += (predicted == y_test).sum()\n",
        "\n",
        "correct.item()/ len(test_data) * 100"
      ],
      "metadata": {
        "colab": {
          "base_uri": "https://localhost:8080/"
        },
        "id": "a3Zua1ptciMx",
        "outputId": "5c06f9b3-d693-4130-dda1-b122d9af8094"
      },
      "execution_count": 26,
      "outputs": [
        {
          "output_type": "execute_result",
          "data": {
            "text/plain": [
              "97.23"
            ]
          },
          "metadata": {},
          "execution_count": 26
        }
      ]
    },
    {
      "cell_type": "code",
      "source": [
        "# run the image through cnn and test it\n",
        "# gran an image\n",
        "\n",
        "test_data[4103]"
      ],
      "metadata": {
        "id": "EHVxQ95td_Jb"
      },
      "execution_count": 26,
      "outputs": []
    },
    {
      "cell_type": "code",
      "source": [
        "# grab just the image\n",
        "test_data[4103][0]"
      ],
      "metadata": {
        "colab": {
          "base_uri": "https://localhost:8080/"
        },
        "id": "jp9HujXcnlZL",
        "outputId": "13fae504-6f80-4ade-9caa-45a0b4877a52"
      },
      "execution_count": 27,
      "outputs": [
        {
          "output_type": "execute_result",
          "data": {
            "text/plain": [
              "tensor([[[0.0000, 0.0000, 0.0000, 0.0000, 0.0000, 0.0000, 0.0000, 0.0000,\n",
              "          0.0000, 0.0000, 0.0000, 0.0000, 0.0000, 0.0000, 0.0000, 0.0000,\n",
              "          0.0000, 0.0000, 0.0000, 0.0000, 0.0000, 0.0000, 0.0000, 0.0000,\n",
              "          0.0000, 0.0000, 0.0000, 0.0000],\n",
              "         [0.0000, 0.0000, 0.0000, 0.0000, 0.0000, 0.0000, 0.0000, 0.0000,\n",
              "          0.0000, 0.0000, 0.0000, 0.0000, 0.0000, 0.0000, 0.0000, 0.0000,\n",
              "          0.0000, 0.0000, 0.0000, 0.0000, 0.0000, 0.0000, 0.0000, 0.0000,\n",
              "          0.0000, 0.0000, 0.0000, 0.0000],\n",
              "         [0.0000, 0.0000, 0.0000, 0.0000, 0.0000, 0.0000, 0.0000, 0.0000,\n",
              "          0.0000, 0.0000, 0.0000, 0.0000, 0.0000, 0.0000, 0.0000, 0.0000,\n",
              "          0.0000, 0.0000, 0.0000, 0.0000, 0.0000, 0.0000, 0.0000, 0.0000,\n",
              "          0.0000, 0.0000, 0.0000, 0.0000],\n",
              "         [0.0000, 0.0000, 0.0000, 0.0000, 0.0000, 0.0000, 0.0000, 0.0000,\n",
              "          0.0000, 0.0000, 0.0000, 0.0000, 0.0000, 0.0000, 0.0000, 0.0000,\n",
              "          0.0000, 0.0000, 0.0000, 0.0000, 0.0000, 0.0000, 0.0000, 0.0000,\n",
              "          0.0000, 0.0000, 0.0000, 0.0000],\n",
              "         [0.0000, 0.0000, 0.0000, 0.0000, 0.0000, 0.0000, 0.0000, 0.0000,\n",
              "          0.0000, 0.0000, 0.0275, 0.2745, 0.5020, 0.7647, 0.9294, 0.9961,\n",
              "          0.9961, 0.9961, 0.5059, 0.0000, 0.0000, 0.0000, 0.0000, 0.0000,\n",
              "          0.0000, 0.0000, 0.0000, 0.0000],\n",
              "         [0.0000, 0.0000, 0.0000, 0.0000, 0.0000, 0.0000, 0.0000, 0.0000,\n",
              "          0.0000, 0.3647, 0.8471, 0.9922, 0.9961, 0.8902, 0.6431, 0.4510,\n",
              "          0.9294, 0.9922, 0.9843, 0.2471, 0.0000, 0.0000, 0.0000, 0.0000,\n",
              "          0.0000, 0.0000, 0.0000, 0.0000],\n",
              "         [0.0000, 0.0000, 0.0000, 0.0000, 0.0000, 0.0000, 0.0000, 0.0353,\n",
              "          0.6824, 0.9765, 0.9490, 0.6353, 0.3137, 0.0824, 0.0000, 0.0000,\n",
              "          0.6314, 0.9922, 0.9922, 0.2706, 0.0000, 0.0000, 0.0000, 0.0000,\n",
              "          0.0000, 0.0000, 0.0000, 0.0000],\n",
              "         [0.0000, 0.0000, 0.0000, 0.0000, 0.0000, 0.0000, 0.0000, 0.6235,\n",
              "          0.9961, 0.7922, 0.2118, 0.0000, 0.0000, 0.0000, 0.0000, 0.0000,\n",
              "          0.6314, 0.9922, 0.9922, 0.2706, 0.0000, 0.0000, 0.0000, 0.0000,\n",
              "          0.0000, 0.0000, 0.0000, 0.0000],\n",
              "         [0.0000, 0.0000, 0.0000, 0.0000, 0.0000, 0.0000, 0.0000, 0.1333,\n",
              "          0.3647, 0.0353, 0.0000, 0.0000, 0.0000, 0.0000, 0.0000, 0.0000,\n",
              "          0.6353, 0.9961, 0.9020, 0.0000, 0.0000, 0.0000, 0.0000, 0.0000,\n",
              "          0.0000, 0.0000, 0.0000, 0.0000],\n",
              "         [0.0000, 0.0000, 0.0000, 0.0000, 0.0000, 0.0000, 0.0000, 0.0000,\n",
              "          0.0000, 0.0000, 0.0000, 0.0000, 0.0000, 0.0000, 0.0000, 0.0000,\n",
              "          0.9608, 0.9922, 0.8353, 0.0000, 0.0000, 0.0000, 0.0000, 0.0000,\n",
              "          0.0000, 0.0000, 0.0000, 0.0000],\n",
              "         [0.0000, 0.0000, 0.0000, 0.0000, 0.0000, 0.0000, 0.0000, 0.0000,\n",
              "          0.0000, 0.0000, 0.0000, 0.0000, 0.0000, 0.0000, 0.0000, 0.1686,\n",
              "          0.9961, 0.9922, 0.3765, 0.0000, 0.0000, 0.0000, 0.0000, 0.0000,\n",
              "          0.0000, 0.0000, 0.0000, 0.0000],\n",
              "         [0.0000, 0.0000, 0.0000, 0.0000, 0.0000, 0.0000, 0.0000, 0.0000,\n",
              "          0.0000, 0.0000, 0.0000, 0.0000, 0.0000, 0.0000, 0.0000, 0.6235,\n",
              "          0.9961, 0.9922, 0.1804, 0.0000, 0.0000, 0.0000, 0.0000, 0.0000,\n",
              "          0.0000, 0.0000, 0.0000, 0.0000],\n",
              "         [0.0000, 0.0000, 0.0000, 0.0000, 0.0000, 0.0000, 0.0000, 0.0000,\n",
              "          0.0000, 0.0000, 0.0000, 0.0000, 0.0000, 0.0000, 0.0275, 0.8000,\n",
              "          0.9961, 0.8784, 0.0667, 0.0000, 0.0000, 0.0000, 0.0000, 0.0000,\n",
              "          0.0000, 0.0000, 0.0000, 0.0000],\n",
              "         [0.0000, 0.0000, 0.0000, 0.0000, 0.0000, 0.0000, 0.0000, 0.0000,\n",
              "          0.0000, 0.0000, 0.0000, 0.0000, 0.0000, 0.0000, 0.0941, 0.9922,\n",
              "          0.9961, 0.5451, 0.0000, 0.0000, 0.0000, 0.0000, 0.0000, 0.0000,\n",
              "          0.0000, 0.0000, 0.0000, 0.0000],\n",
              "         [0.0000, 0.0000, 0.0000, 0.0000, 0.0000, 0.0000, 0.0000, 0.0000,\n",
              "          0.0000, 0.0000, 0.0000, 0.0000, 0.0000, 0.0000, 0.2588, 0.9922,\n",
              "          0.9961, 0.0902, 0.0000, 0.0000, 0.0000, 0.0000, 0.0000, 0.0000,\n",
              "          0.0000, 0.0000, 0.0000, 0.0000],\n",
              "         [0.0000, 0.0000, 0.0000, 0.0000, 0.0000, 0.0000, 0.0000, 0.0000,\n",
              "          0.0000, 0.0000, 0.0000, 0.0000, 0.0000, 0.0667, 0.7804, 0.9922,\n",
              "          0.7961, 0.0235, 0.0000, 0.0000, 0.0000, 0.0000, 0.0000, 0.0000,\n",
              "          0.0000, 0.0000, 0.0000, 0.0000],\n",
              "         [0.0000, 0.0000, 0.0000, 0.0000, 0.0000, 0.0000, 0.0000, 0.0000,\n",
              "          0.0000, 0.1490, 0.4392, 0.6314, 0.8667, 0.8627, 0.9961, 0.9961,\n",
              "          0.2353, 0.0000, 0.0000, 0.0000, 0.0000, 0.0000, 0.0000, 0.0000,\n",
              "          0.0000, 0.0000, 0.0000, 0.0000],\n",
              "         [0.0000, 0.0000, 0.0000, 0.0000, 0.0000, 0.0000, 0.0000, 0.0000,\n",
              "          0.5098, 0.9529, 0.9725, 0.8745, 0.9294, 0.9922, 0.9922, 0.9922,\n",
              "          0.9373, 0.3804, 0.0353, 0.0000, 0.0000, 0.0000, 0.0000, 0.0000,\n",
              "          0.0000, 0.0000, 0.0000, 0.0000],\n",
              "         [0.0000, 0.0000, 0.0000, 0.0000, 0.0000, 0.0000, 0.0118, 0.4902,\n",
              "          0.9961, 0.7412, 0.2275, 0.0667, 0.3725, 0.9922, 0.9922, 0.9922,\n",
              "          0.9961, 0.9922, 0.6784, 0.1569, 0.0000, 0.0000, 0.0000, 0.0000,\n",
              "          0.0000, 0.0000, 0.0000, 0.0000],\n",
              "         [0.0000, 0.0000, 0.0000, 0.0000, 0.0000, 0.0000, 0.0941, 0.9922,\n",
              "          0.9961, 0.1882, 0.0000, 0.2667, 0.8980, 0.9922, 0.5294, 0.2706,\n",
              "          0.8627, 0.9922, 0.9922, 0.8941, 0.1333, 0.0000, 0.0000, 0.0000,\n",
              "          0.0000, 0.0000, 0.0000, 0.0000],\n",
              "         [0.0000, 0.0000, 0.0000, 0.0000, 0.0000, 0.0000, 0.3569, 0.9961,\n",
              "          1.0000, 0.7961, 0.6667, 0.9961, 0.9255, 0.4627, 0.0000, 0.0000,\n",
              "          0.0000, 0.5255, 0.9451, 0.9961, 0.8980, 0.1569, 0.0000, 0.0000,\n",
              "          0.0000, 0.0000, 0.0000, 0.0000],\n",
              "         [0.0000, 0.0000, 0.0000, 0.0000, 0.0000, 0.0000, 0.0118, 0.3529,\n",
              "          0.8627, 0.9922, 0.9098, 0.6784, 0.1961, 0.0000, 0.0000, 0.0000,\n",
              "          0.0000, 0.0000, 0.2902, 0.9922, 0.9961, 0.4510, 0.0000, 0.0000,\n",
              "          0.0000, 0.0000, 0.0000, 0.0000],\n",
              "         [0.0000, 0.0000, 0.0000, 0.0000, 0.0000, 0.0000, 0.0000, 0.0000,\n",
              "          0.0510, 0.1804, 0.0980, 0.0000, 0.0000, 0.0000, 0.0000, 0.0000,\n",
              "          0.0000, 0.0000, 0.0196, 0.7373, 0.9961, 0.4510, 0.0000, 0.0000,\n",
              "          0.0000, 0.0000, 0.0000, 0.0000],\n",
              "         [0.0000, 0.0000, 0.0000, 0.0000, 0.0000, 0.0000, 0.0000, 0.0000,\n",
              "          0.0000, 0.0000, 0.0000, 0.0000, 0.0000, 0.0000, 0.0000, 0.0000,\n",
              "          0.0000, 0.0000, 0.0000, 0.0980, 0.7647, 0.2863, 0.0000, 0.0000,\n",
              "          0.0000, 0.0000, 0.0000, 0.0000],\n",
              "         [0.0000, 0.0000, 0.0000, 0.0000, 0.0000, 0.0000, 0.0000, 0.0000,\n",
              "          0.0000, 0.0000, 0.0000, 0.0000, 0.0000, 0.0000, 0.0000, 0.0000,\n",
              "          0.0000, 0.0000, 0.0000, 0.0000, 0.0000, 0.0000, 0.0000, 0.0000,\n",
              "          0.0000, 0.0000, 0.0000, 0.0000],\n",
              "         [0.0000, 0.0000, 0.0000, 0.0000, 0.0000, 0.0000, 0.0000, 0.0000,\n",
              "          0.0000, 0.0000, 0.0000, 0.0000, 0.0000, 0.0000, 0.0000, 0.0000,\n",
              "          0.0000, 0.0000, 0.0000, 0.0000, 0.0000, 0.0000, 0.0000, 0.0000,\n",
              "          0.0000, 0.0000, 0.0000, 0.0000],\n",
              "         [0.0000, 0.0000, 0.0000, 0.0000, 0.0000, 0.0000, 0.0000, 0.0000,\n",
              "          0.0000, 0.0000, 0.0000, 0.0000, 0.0000, 0.0000, 0.0000, 0.0000,\n",
              "          0.0000, 0.0000, 0.0000, 0.0000, 0.0000, 0.0000, 0.0000, 0.0000,\n",
              "          0.0000, 0.0000, 0.0000, 0.0000],\n",
              "         [0.0000, 0.0000, 0.0000, 0.0000, 0.0000, 0.0000, 0.0000, 0.0000,\n",
              "          0.0000, 0.0000, 0.0000, 0.0000, 0.0000, 0.0000, 0.0000, 0.0000,\n",
              "          0.0000, 0.0000, 0.0000, 0.0000, 0.0000, 0.0000, 0.0000, 0.0000,\n",
              "          0.0000, 0.0000, 0.0000, 0.0000]]])"
            ]
          },
          "metadata": {},
          "execution_count": 27
        }
      ]
    },
    {
      "cell_type": "code",
      "source": [
        "# reshape\n",
        "test_data[4103][0].reshape(28,28)"
      ],
      "metadata": {
        "colab": {
          "base_uri": "https://localhost:8080/"
        },
        "id": "lSliinbyn9WH",
        "outputId": "2809e5e0-b8be-4bd2-eba3-e7d8b724071d"
      },
      "execution_count": 28,
      "outputs": [
        {
          "output_type": "execute_result",
          "data": {
            "text/plain": [
              "tensor([[0.0000, 0.0000, 0.0000, 0.0000, 0.0000, 0.0000, 0.0000, 0.0000, 0.0000,\n",
              "         0.0000, 0.0000, 0.0000, 0.0000, 0.0000, 0.0000, 0.0000, 0.0000, 0.0000,\n",
              "         0.0000, 0.0000, 0.0000, 0.0000, 0.0000, 0.0000, 0.0000, 0.0000, 0.0000,\n",
              "         0.0000],\n",
              "        [0.0000, 0.0000, 0.0000, 0.0000, 0.0000, 0.0000, 0.0000, 0.0000, 0.0000,\n",
              "         0.0000, 0.0000, 0.0000, 0.0000, 0.0000, 0.0000, 0.0000, 0.0000, 0.0000,\n",
              "         0.0000, 0.0000, 0.0000, 0.0000, 0.0000, 0.0000, 0.0000, 0.0000, 0.0000,\n",
              "         0.0000],\n",
              "        [0.0000, 0.0000, 0.0000, 0.0000, 0.0000, 0.0000, 0.0000, 0.0000, 0.0000,\n",
              "         0.0000, 0.0000, 0.0000, 0.0000, 0.0000, 0.0000, 0.0000, 0.0000, 0.0000,\n",
              "         0.0000, 0.0000, 0.0000, 0.0000, 0.0000, 0.0000, 0.0000, 0.0000, 0.0000,\n",
              "         0.0000],\n",
              "        [0.0000, 0.0000, 0.0000, 0.0000, 0.0000, 0.0000, 0.0000, 0.0000, 0.0000,\n",
              "         0.0000, 0.0000, 0.0000, 0.0000, 0.0000, 0.0000, 0.0000, 0.0000, 0.0000,\n",
              "         0.0000, 0.0000, 0.0000, 0.0000, 0.0000, 0.0000, 0.0000, 0.0000, 0.0000,\n",
              "         0.0000],\n",
              "        [0.0000, 0.0000, 0.0000, 0.0000, 0.0000, 0.0000, 0.0000, 0.0000, 0.0000,\n",
              "         0.0000, 0.0275, 0.2745, 0.5020, 0.7647, 0.9294, 0.9961, 0.9961, 0.9961,\n",
              "         0.5059, 0.0000, 0.0000, 0.0000, 0.0000, 0.0000, 0.0000, 0.0000, 0.0000,\n",
              "         0.0000],\n",
              "        [0.0000, 0.0000, 0.0000, 0.0000, 0.0000, 0.0000, 0.0000, 0.0000, 0.0000,\n",
              "         0.3647, 0.8471, 0.9922, 0.9961, 0.8902, 0.6431, 0.4510, 0.9294, 0.9922,\n",
              "         0.9843, 0.2471, 0.0000, 0.0000, 0.0000, 0.0000, 0.0000, 0.0000, 0.0000,\n",
              "         0.0000],\n",
              "        [0.0000, 0.0000, 0.0000, 0.0000, 0.0000, 0.0000, 0.0000, 0.0353, 0.6824,\n",
              "         0.9765, 0.9490, 0.6353, 0.3137, 0.0824, 0.0000, 0.0000, 0.6314, 0.9922,\n",
              "         0.9922, 0.2706, 0.0000, 0.0000, 0.0000, 0.0000, 0.0000, 0.0000, 0.0000,\n",
              "         0.0000],\n",
              "        [0.0000, 0.0000, 0.0000, 0.0000, 0.0000, 0.0000, 0.0000, 0.6235, 0.9961,\n",
              "         0.7922, 0.2118, 0.0000, 0.0000, 0.0000, 0.0000, 0.0000, 0.6314, 0.9922,\n",
              "         0.9922, 0.2706, 0.0000, 0.0000, 0.0000, 0.0000, 0.0000, 0.0000, 0.0000,\n",
              "         0.0000],\n",
              "        [0.0000, 0.0000, 0.0000, 0.0000, 0.0000, 0.0000, 0.0000, 0.1333, 0.3647,\n",
              "         0.0353, 0.0000, 0.0000, 0.0000, 0.0000, 0.0000, 0.0000, 0.6353, 0.9961,\n",
              "         0.9020, 0.0000, 0.0000, 0.0000, 0.0000, 0.0000, 0.0000, 0.0000, 0.0000,\n",
              "         0.0000],\n",
              "        [0.0000, 0.0000, 0.0000, 0.0000, 0.0000, 0.0000, 0.0000, 0.0000, 0.0000,\n",
              "         0.0000, 0.0000, 0.0000, 0.0000, 0.0000, 0.0000, 0.0000, 0.9608, 0.9922,\n",
              "         0.8353, 0.0000, 0.0000, 0.0000, 0.0000, 0.0000, 0.0000, 0.0000, 0.0000,\n",
              "         0.0000],\n",
              "        [0.0000, 0.0000, 0.0000, 0.0000, 0.0000, 0.0000, 0.0000, 0.0000, 0.0000,\n",
              "         0.0000, 0.0000, 0.0000, 0.0000, 0.0000, 0.0000, 0.1686, 0.9961, 0.9922,\n",
              "         0.3765, 0.0000, 0.0000, 0.0000, 0.0000, 0.0000, 0.0000, 0.0000, 0.0000,\n",
              "         0.0000],\n",
              "        [0.0000, 0.0000, 0.0000, 0.0000, 0.0000, 0.0000, 0.0000, 0.0000, 0.0000,\n",
              "         0.0000, 0.0000, 0.0000, 0.0000, 0.0000, 0.0000, 0.6235, 0.9961, 0.9922,\n",
              "         0.1804, 0.0000, 0.0000, 0.0000, 0.0000, 0.0000, 0.0000, 0.0000, 0.0000,\n",
              "         0.0000],\n",
              "        [0.0000, 0.0000, 0.0000, 0.0000, 0.0000, 0.0000, 0.0000, 0.0000, 0.0000,\n",
              "         0.0000, 0.0000, 0.0000, 0.0000, 0.0000, 0.0275, 0.8000, 0.9961, 0.8784,\n",
              "         0.0667, 0.0000, 0.0000, 0.0000, 0.0000, 0.0000, 0.0000, 0.0000, 0.0000,\n",
              "         0.0000],\n",
              "        [0.0000, 0.0000, 0.0000, 0.0000, 0.0000, 0.0000, 0.0000, 0.0000, 0.0000,\n",
              "         0.0000, 0.0000, 0.0000, 0.0000, 0.0000, 0.0941, 0.9922, 0.9961, 0.5451,\n",
              "         0.0000, 0.0000, 0.0000, 0.0000, 0.0000, 0.0000, 0.0000, 0.0000, 0.0000,\n",
              "         0.0000],\n",
              "        [0.0000, 0.0000, 0.0000, 0.0000, 0.0000, 0.0000, 0.0000, 0.0000, 0.0000,\n",
              "         0.0000, 0.0000, 0.0000, 0.0000, 0.0000, 0.2588, 0.9922, 0.9961, 0.0902,\n",
              "         0.0000, 0.0000, 0.0000, 0.0000, 0.0000, 0.0000, 0.0000, 0.0000, 0.0000,\n",
              "         0.0000],\n",
              "        [0.0000, 0.0000, 0.0000, 0.0000, 0.0000, 0.0000, 0.0000, 0.0000, 0.0000,\n",
              "         0.0000, 0.0000, 0.0000, 0.0000, 0.0667, 0.7804, 0.9922, 0.7961, 0.0235,\n",
              "         0.0000, 0.0000, 0.0000, 0.0000, 0.0000, 0.0000, 0.0000, 0.0000, 0.0000,\n",
              "         0.0000],\n",
              "        [0.0000, 0.0000, 0.0000, 0.0000, 0.0000, 0.0000, 0.0000, 0.0000, 0.0000,\n",
              "         0.1490, 0.4392, 0.6314, 0.8667, 0.8627, 0.9961, 0.9961, 0.2353, 0.0000,\n",
              "         0.0000, 0.0000, 0.0000, 0.0000, 0.0000, 0.0000, 0.0000, 0.0000, 0.0000,\n",
              "         0.0000],\n",
              "        [0.0000, 0.0000, 0.0000, 0.0000, 0.0000, 0.0000, 0.0000, 0.0000, 0.5098,\n",
              "         0.9529, 0.9725, 0.8745, 0.9294, 0.9922, 0.9922, 0.9922, 0.9373, 0.3804,\n",
              "         0.0353, 0.0000, 0.0000, 0.0000, 0.0000, 0.0000, 0.0000, 0.0000, 0.0000,\n",
              "         0.0000],\n",
              "        [0.0000, 0.0000, 0.0000, 0.0000, 0.0000, 0.0000, 0.0118, 0.4902, 0.9961,\n",
              "         0.7412, 0.2275, 0.0667, 0.3725, 0.9922, 0.9922, 0.9922, 0.9961, 0.9922,\n",
              "         0.6784, 0.1569, 0.0000, 0.0000, 0.0000, 0.0000, 0.0000, 0.0000, 0.0000,\n",
              "         0.0000],\n",
              "        [0.0000, 0.0000, 0.0000, 0.0000, 0.0000, 0.0000, 0.0941, 0.9922, 0.9961,\n",
              "         0.1882, 0.0000, 0.2667, 0.8980, 0.9922, 0.5294, 0.2706, 0.8627, 0.9922,\n",
              "         0.9922, 0.8941, 0.1333, 0.0000, 0.0000, 0.0000, 0.0000, 0.0000, 0.0000,\n",
              "         0.0000],\n",
              "        [0.0000, 0.0000, 0.0000, 0.0000, 0.0000, 0.0000, 0.3569, 0.9961, 1.0000,\n",
              "         0.7961, 0.6667, 0.9961, 0.9255, 0.4627, 0.0000, 0.0000, 0.0000, 0.5255,\n",
              "         0.9451, 0.9961, 0.8980, 0.1569, 0.0000, 0.0000, 0.0000, 0.0000, 0.0000,\n",
              "         0.0000],\n",
              "        [0.0000, 0.0000, 0.0000, 0.0000, 0.0000, 0.0000, 0.0118, 0.3529, 0.8627,\n",
              "         0.9922, 0.9098, 0.6784, 0.1961, 0.0000, 0.0000, 0.0000, 0.0000, 0.0000,\n",
              "         0.2902, 0.9922, 0.9961, 0.4510, 0.0000, 0.0000, 0.0000, 0.0000, 0.0000,\n",
              "         0.0000],\n",
              "        [0.0000, 0.0000, 0.0000, 0.0000, 0.0000, 0.0000, 0.0000, 0.0000, 0.0510,\n",
              "         0.1804, 0.0980, 0.0000, 0.0000, 0.0000, 0.0000, 0.0000, 0.0000, 0.0000,\n",
              "         0.0196, 0.7373, 0.9961, 0.4510, 0.0000, 0.0000, 0.0000, 0.0000, 0.0000,\n",
              "         0.0000],\n",
              "        [0.0000, 0.0000, 0.0000, 0.0000, 0.0000, 0.0000, 0.0000, 0.0000, 0.0000,\n",
              "         0.0000, 0.0000, 0.0000, 0.0000, 0.0000, 0.0000, 0.0000, 0.0000, 0.0000,\n",
              "         0.0000, 0.0980, 0.7647, 0.2863, 0.0000, 0.0000, 0.0000, 0.0000, 0.0000,\n",
              "         0.0000],\n",
              "        [0.0000, 0.0000, 0.0000, 0.0000, 0.0000, 0.0000, 0.0000, 0.0000, 0.0000,\n",
              "         0.0000, 0.0000, 0.0000, 0.0000, 0.0000, 0.0000, 0.0000, 0.0000, 0.0000,\n",
              "         0.0000, 0.0000, 0.0000, 0.0000, 0.0000, 0.0000, 0.0000, 0.0000, 0.0000,\n",
              "         0.0000],\n",
              "        [0.0000, 0.0000, 0.0000, 0.0000, 0.0000, 0.0000, 0.0000, 0.0000, 0.0000,\n",
              "         0.0000, 0.0000, 0.0000, 0.0000, 0.0000, 0.0000, 0.0000, 0.0000, 0.0000,\n",
              "         0.0000, 0.0000, 0.0000, 0.0000, 0.0000, 0.0000, 0.0000, 0.0000, 0.0000,\n",
              "         0.0000],\n",
              "        [0.0000, 0.0000, 0.0000, 0.0000, 0.0000, 0.0000, 0.0000, 0.0000, 0.0000,\n",
              "         0.0000, 0.0000, 0.0000, 0.0000, 0.0000, 0.0000, 0.0000, 0.0000, 0.0000,\n",
              "         0.0000, 0.0000, 0.0000, 0.0000, 0.0000, 0.0000, 0.0000, 0.0000, 0.0000,\n",
              "         0.0000],\n",
              "        [0.0000, 0.0000, 0.0000, 0.0000, 0.0000, 0.0000, 0.0000, 0.0000, 0.0000,\n",
              "         0.0000, 0.0000, 0.0000, 0.0000, 0.0000, 0.0000, 0.0000, 0.0000, 0.0000,\n",
              "         0.0000, 0.0000, 0.0000, 0.0000, 0.0000, 0.0000, 0.0000, 0.0000, 0.0000,\n",
              "         0.0000]])"
            ]
          },
          "metadata": {},
          "execution_count": 28
        }
      ]
    },
    {
      "cell_type": "code",
      "source": [
        "plt.imshow(test_data[4103][0].reshape(28,28))"
      ],
      "metadata": {
        "colab": {
          "base_uri": "https://localhost:8080/",
          "height": 447
        },
        "id": "gOyEB7GpoGr5",
        "outputId": "08cfd4a9-03f1-4eb2-d195-b4c10141a982"
      },
      "execution_count": 29,
      "outputs": [
        {
          "output_type": "execute_result",
          "data": {
            "text/plain": [
              "<matplotlib.image.AxesImage at 0x7c689c861990>"
            ]
          },
          "metadata": {},
          "execution_count": 29
        },
        {
          "output_type": "display_data",
          "data": {
            "text/plain": [
              "<Figure size 640x480 with 1 Axes>"
            ],
            "image/png": "[encoded data removed]"
          },
          "metadata": {}
        }
      ]
    },
    {
      "cell_type": "code",
      "source": [
        "model.eval()\n",
        "with torch.no_grad():\n",
        "  new_prediction = model(test_data[4103][0].view(1,1,28,28))"
      ],
      "metadata": {
        "id": "nXeADwmjoM_P"
      },
      "execution_count": 30,
      "outputs": []
    },
    {
      "cell_type": "code",
      "source": [
        "new_prediction.argmax()"
      ],
      "metadata": {
        "colab": {
          "base_uri": "https://localhost:8080/"
        },
        "id": "of_fAe3woehc",
        "outputId": "64ff5cd5-0740-4de0-a5bd-a90e98c83d39"
      },
      "execution_count": 31,
      "outputs": [
        {
          "output_type": "execute_result",
          "data": {
            "text/plain": [
              "tensor(2)"
            ]
          },
          "metadata": {},
          "execution_count": 31
        }
      ]
    },
    {
      "cell_type": "code",
      "source": [],
      "metadata": {
        "id": "F4Tba9inohzS"
      },
      "execution_count": null,
      "outputs": []
    }
  ]
}